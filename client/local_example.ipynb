{
 "cells": [
  {
   "cell_type": "code",
   "execution_count": 1,
   "id": "68aeee52",
   "metadata": {},
   "outputs": [],
   "source": [
    "import torch"
   ]
  },
  {
   "cell_type": "code",
   "execution_count": 2,
   "id": "8a4fdd93",
   "metadata": {},
   "outputs": [
    {
     "name": "stdout",
     "output_type": "stream",
     "text": [
      "1.10.1\n"
     ]
    }
   ],
   "source": [
    "print(torch.__version__)"
   ]
  },
  {
   "cell_type": "code",
   "execution_count": 3,
   "id": "b511db8a",
   "metadata": {},
   "outputs": [
    {
     "name": "stderr",
     "output_type": "stream",
     "text": [
      "Using cache found in /home/alex/.cache/torch/hub/snakers4_silero-models_master\n"
     ]
    }
   ],
   "source": [
    "model, example_texts, languages, punct, apply_te = torch.hub.load(repo_or_dir='snakers4/silero-models',\n",
    "                                                                  model='silero_te')"
   ]
  },
  {
   "cell_type": "code",
   "execution_count": 4,
   "id": "52e36467",
   "metadata": {},
   "outputs": [],
   "source": [
    "text = 'девятьсот девять сто пятьдесят пять тридцать восемь сорок я хотел и рон сказал суток про анимацию приехать хотела попросить чтобы после пяти приехал тогда'"
   ]
  },
  {
   "cell_type": "code",
   "execution_count": 5,
   "id": "e010a037",
   "metadata": {},
   "outputs": [
    {
     "name": "stdout",
     "output_type": "stream",
     "text": [
      "CPU times: user 315 ms, sys: 0 ns, total: 315 ms\n",
      "Wall time: 208 ms\n"
     ]
    },
    {
     "data": {
      "text/plain": [
       "'Девятьсот девять сто пятьдесят пять. Тридцать восемь сорок я хотел, и Рон сказал суток про анимацию приехать хотела попросить, чтобы после пяти приехал тогда.'"
      ]
     },
     "execution_count": 5,
     "metadata": {},
     "output_type": "execute_result"
    }
   ],
   "source": [
    "%time apply_te(text, lan='ru')"
   ]
  }
 ],
 "metadata": {
  "kernelspec": {
   "display_name": "Python 3 (ipykernel)",
   "language": "python",
   "name": "python3"
  },
  "language_info": {
   "codemirror_mode": {
    "name": "ipython",
    "version": 3
   },
   "file_extension": ".py",
   "mimetype": "text/x-python",
   "name": "python",
   "nbconvert_exporter": "python",
   "pygments_lexer": "ipython3",
   "version": "3.8.8"
  }
 },
 "nbformat": 4,
 "nbformat_minor": 5
}
