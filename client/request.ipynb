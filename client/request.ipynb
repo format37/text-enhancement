{
 "cells": [
  {
   "cell_type": "code",
   "execution_count": 1,
   "id": "7108a3bc",
   "metadata": {},
   "outputs": [],
   "source": [
    "import requests\n",
    "import json"
   ]
  },
  {
   "cell_type": "code",
   "execution_count": 2,
   "id": "0a059fc1",
   "metadata": {
    "scrolled": true
   },
   "outputs": [
    {
     "data": {
      "text/plain": [
       "'Не у нас мастера по районам работают значит смотрите. Я сейчас отправляю информацию, чтобы с вами связались и вы тогда уже сами сообщите, когда вам будет удобно да.'"
      ]
     },
     "execution_count": 2,
     "metadata": {},
     "output_type": "execute_result"
    }
   ],
   "source": [
    "docker_server_address = 'http://localhost:2801/te'\n",
    "text = 'не у нас мастера по районам работают значит смотрите я сейчас отправляю информацию чтобы с вами связались и вы тогда уже сами сообщите когда вам будет удобно да'\n",
    "# Available languages ['en', 'de', 'ru', 'es']\n",
    "# Available punctuation marks ['.', ',', '-', '!', '?', '—']\n",
    "request = {\n",
    "    'in_text':text,\n",
    "    'lan':'ru'\n",
    "}\n",
    "request_str = json.dumps(request)\n",
    "r = requests.post(docker_server_address, json=request_str)\n",
    "r.text"
   ]
  }
 ],
 "metadata": {
  "kernelspec": {
   "display_name": "Python 3 (ipykernel)",
   "language": "python",
   "name": "python3"
  },
  "language_info": {
   "codemirror_mode": {
    "name": "ipython",
    "version": 3
   },
   "file_extension": ".py",
   "mimetype": "text/x-python",
   "name": "python",
   "nbconvert_exporter": "python",
   "pygments_lexer": "ipython3",
   "version": "3.8.8"
  }
 },
 "nbformat": 4,
 "nbformat_minor": 5
}
